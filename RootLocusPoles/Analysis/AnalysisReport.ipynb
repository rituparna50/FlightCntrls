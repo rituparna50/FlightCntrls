{
  "nbformat": 4,
  "nbformat_minor": 0,
  "metadata": {
    "colab": {
      "provenance": []
    },
    "kernelspec": {
      "name": "python3",
      "display_name": "Python 3"
    },
    "language_info": {
      "name": "python"
    }
  },
  "cells": [
    {
      "cell_type": "code",
      "source": [
        "from google.colab import drive\n",
        "drive.mount('/content/drive')"
      ],
      "metadata": {
        "colab": {
          "base_uri": "https://localhost:8080/"
        },
        "id": "kyGAplsgyVDB",
        "outputId": "4264acd5-12b8-4317-e453-7d0b71fd709f"
      },
      "execution_count": null,
      "outputs": [
        {
          "output_type": "stream",
          "name": "stdout",
          "text": [
            "Mounted at /content/drive\n"
          ]
        }
      ]
    },
    {
      "cell_type": "markdown",
      "source": [
        "This section analyses the root locus plot results. \n",
        "If the poles have real parts ont eh negative side of complex plane, system is more stable.\n",
        "\n",
        "![Root Locus Plot](https://github.com/your-username/your-repo/raw/main/root_locus_plot.png)"
      ],
      "metadata": {
        "id": "t09IjlfM1SV2"
      }
    }
  ]
}